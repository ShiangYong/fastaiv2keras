{
 "cells": [
  {
   "cell_type": "markdown",
   "metadata": {},
   "source": [
    "# Lesson 1 - Keras implementation of fast ai part 1 v2\n",
    "- This is a Keras implementation of Jeremy Howard's fastai part 1 v2 lesson 1 (original version is in PyTorch)\n",
    "- This has only been tested with the TensorFlow backend to Keras"
   ]
  },
  {
   "cell_type": "code",
   "execution_count": 1,
   "metadata": {},
   "outputs": [
    {
     "name": "stderr",
     "output_type": "stream",
     "text": [
      "Using TensorFlow backend.\n"
     ]
    }
   ],
   "source": [
    "%matplotlib inline\n",
    "%reload_ext autoreload\n",
    "%autoreload 2\n",
    "from fastai.utils import *\n",
    "from fastai.learner import *\n",
    "from fastai.dataset import *"
   ]
  },
  {
   "cell_type": "markdown",
   "metadata": {},
   "source": [
    "We will use the dogs and cats dataset\n",
    "\n",
    "path should be replaced with the path to your downloaded dogs and cats dataset\n",
    "\n",
    "For the original Keras dogs/cats lesson1 and instructions on downloading visit:\n",
    "https://github.com/fastai/courses/blob/master/deeplearning1/nbs/lesson1.ipynb"
   ]
  },
  {
   "cell_type": "code",
   "execution_count": 2,
   "metadata": {
    "collapsed": true
   },
   "outputs": [],
   "source": [
    "path=\"/home/jeff/projects/fastai/data/dogscats/\" #update with your path to cats and dogs\n",
    "sz = 224"
   ]
  },
  {
   "cell_type": "markdown",
   "metadata": {},
   "source": [
    "Loading in Keras' off the shelf/pretrained ResNet50 model.\n",
    "\n",
    "***note: the PyTorch course uses ResNet34. After many hours spent writing code to convert PyTorch models and weights into Keras. I opted to use Keras' ResNet50.***"
   ]
  },
  {
   "cell_type": "code",
   "execution_count": 3,
   "metadata": {},
   "outputs": [
    {
     "name": "stdout",
     "output_type": "stream",
     "text": [
      "Found 23000 images belonging to 2 classes.\n",
      "Found 2000 images belonging to 2 classes.\n"
     ]
    }
   ],
   "source": [
    "arch = ResNet50\n",
    "data = ImageClassifierData.from_paths(path=path, tfms = tfms_from_model(arch, 224))\n",
    "learn = ConvLearner.pretrained(arch, data)"
   ]
  },
  {
   "cell_type": "code",
   "execution_count": 4,
   "metadata": {},
   "outputs": [
    {
     "name": "stdout",
     "output_type": "stream",
     "text": [
      "Epoch 1/1\n",
      "289/360 [=======================>......] - ETA: 13s - loss: 0.6109"
     ]
    }
   ],
   "source": [
    "learn.lr_find()"
   ]
  },
  {
   "cell_type": "code",
   "execution_count": 5,
   "metadata": {},
   "outputs": [
    {
     "data": {
      "image/png": "[encoded data removed]",
      "text/plain": [
       "<matplotlib.figure.Figure at 0x7f09954f1f28>"
      ]
     },
     "metadata": {},
     "output_type": "display_data"
    }
   ],
   "source": [
    "learn.sched.plot_lr()"
   ]
  },
  {
   "cell_type": "code",
   "execution_count": 6,
   "metadata": {},
   "outputs": [
    {
     "data": {
      "image/png": "[encoded data removed]",
      "text/plain": [
       "<matplotlib.figure.Figure at 0x7f0995275860>"
      ]
     },
     "metadata": {},
     "output_type": "display_data"
    }
   ],
   "source": [
    "learn.sched.plot()"
   ]
  },
  {
   "cell_type": "markdown",
   "metadata": {},
   "source": [
    "As you can see in the plot above it appears the optimal learning rate to set is .08"
   ]
  },
  {
   "cell_type": "markdown",
   "metadata": {},
   "source": [
    "**Data Augmentation on the training data**\n",
    "\n",
    "Now time to start training!  I noticed that the pretrained Keras ResNet50 model is not quite as accurate in my opinion as the pretrained PyTorch ResNet50 model."
   ]
  },
  {
   "cell_type": "code",
   "execution_count": 7,
   "metadata": {
    "collapsed": true
   },
   "outputs": [],
   "source": [
    "tfms = tfms_from_model(arch, sz, crop_type=CropType.RANDOM, \n",
    "                  rotation_range=10, zoom_range=0.1, horizontal_flip=True)"
   ]
  },
  {
   "cell_type": "code",
   "execution_count": 8,
   "metadata": {},
   "outputs": [
    {
     "name": "stdout",
     "output_type": "stream",
     "text": [
      "Found 23000 images belonging to 2 classes.\n",
      "Found 2000 images belonging to 2 classes.\n"
     ]
    }
   ],
   "source": [
    "#need to add random lighten\n",
    "data = ImageClassifierData.from_paths(path=path, tfms = tfms)"
   ]
  },
  {
   "cell_type": "code",
   "execution_count": 9,
   "metadata": {},
   "outputs": [
    {
     "name": "stdout",
     "output_type": "stream",
     "text": [
      "Epoch 1/4\n",
      "360/360 [==============================] - 66s - loss: 0.1876 - acc: 0.9296    \n",
      "Epoch 2/4\n",
      "360/360 [==============================] - 65s - loss: 0.0947 - acc: 0.9604    \n",
      "Epoch 3/4\n",
      "360/360 [==============================] - 65s - loss: 0.0822 - acc: 0.9674    \n",
      "Epoch 4/4\n",
      "360/360 [==============================] - 65s - loss: 0.0766 - acc: 0.9670    \n"
     ]
    }
   ],
   "source": [
    "learn.fit(.08, 4)"
   ]
  },
  {
   "cell_type": "markdown",
   "metadata": {},
   "source": [
    "Evaluate function may run a little slow.  I find that Keras generator's are not the fastest compared to the ones in the fastai PyTorch library.  Generally I try to load the entire dataset into memory, but since this repository is meant to be shared I opted for generators so that it works for a wider audience."
   ]
  },
  {
   "cell_type": "code",
   "execution_count": 10,
   "metadata": {},
   "outputs": [
    {
     "data": {
      "text/plain": [
       "[0.10503722735265243, 0.95939409368635442]"
      ]
     },
     "execution_count": 10,
     "metadata": {},
     "output_type": "execute_result"
    }
   ],
   "source": [
    "learn.model.evaluate_generator(data[1], steps=math.ceil(data[1].samples/data[1].batch_size*4) )"
   ]
  },
  {
   "cell_type": "markdown",
   "metadata": {},
   "source": [
    "Fit for 3 epochs with a Cyclical Learning Rate"
   ]
  },
  {
   "cell_type": "code",
   "execution_count": 11,
   "metadata": {},
   "outputs": [
    {
     "name": "stdout",
     "output_type": "stream",
     "text": [
      "Epoch 1/3\n",
      "360/360 [==============================] - 66s - loss: 0.0618 - acc: 0.9760    \n",
      "Epoch 2/3\n",
      "360/360 [==============================] - 66s - loss: 0.0653 - acc: 0.9747    \n",
      "Epoch 3/3\n",
      "360/360 [==============================] - 66s - loss: 0.0546 - acc: 0.9798    \n"
     ]
    }
   ],
   "source": [
    "learn.fit(.08, 2, cycle_len=1, cycle_mult=2)"
   ]
  },
  {
   "cell_type": "code",
   "execution_count": 12,
   "metadata": {},
   "outputs": [
    {
     "data": {
      "text/plain": [
       "[0.08634015431123801, 0.96311475409836067]"
      ]
     },
     "execution_count": 12,
     "metadata": {},
     "output_type": "execute_result"
    }
   ],
   "source": [
    "learn.model.evaluate_generator(data[1], steps=math.ceil(data[1].samples/data[1].batch_size*4) )"
   ]
  },
  {
   "cell_type": "code",
   "execution_count": 13,
   "metadata": {},
   "outputs": [
    {
     "data": {
      "image/png": "[encoded data removed]",
      "text/plain": [
       "<matplotlib.figure.Figure at 0x7f0995239ef0>"
      ]
     },
     "metadata": {},
     "output_type": "display_data"
    }
   ],
   "source": [
    "learn.sched.plot_lr()"
   ]
  },
  {
   "cell_type": "code",
   "execution_count": 14,
   "metadata": {
    "collapsed": true
   },
   "outputs": [],
   "source": [
    "learn.save('keras_resnet50.hdf5')"
   ]
  },
  {
   "cell_type": "markdown",
   "metadata": {},
   "source": [
    "Make all layers trainable"
   ]
  },
  {
   "cell_type": "code",
   "execution_count": 15,
   "metadata": {
    "collapsed": true
   },
   "outputs": [],
   "source": [
    "learn.unfreeze()"
   ]
  },
  {
   "cell_type": "code",
   "execution_count": 16,
   "metadata": {},
   "outputs": [
    {
     "name": "stdout",
     "output_type": "stream",
     "text": [
      "Epoch 1/7\n",
      "360/360 [==============================] - 217s - loss: 0.0489 - acc: 0.9805   \n",
      "Epoch 2/7\n",
      "360/360 [==============================] - 214s - loss: 0.0460 - acc: 0.9809   \n",
      "Epoch 3/7\n",
      "360/360 [==============================] - 216s - loss: 0.0400 - acc: 0.9838   \n",
      "Epoch 4/7\n",
      "360/360 [==============================] - 214s - loss: 0.0407 - acc: 0.9838   \n",
      "Epoch 5/7\n",
      "360/360 [==============================] - 214s - loss: 0.0329 - acc: 0.9878   \n",
      "Epoch 6/7\n",
      "360/360 [==============================] - 216s - loss: 0.0315 - acc: 0.9880   \n",
      "Epoch 7/7\n",
      "360/360 [==============================] - 214s - loss: 0.0310 - acc: 0.9884   \n"
     ]
    }
   ],
   "source": [
    "learn.fit([0.0001, .001, .01], 3, cycle_len=1, cycle_mult=2)"
   ]
  },
  {
   "cell_type": "code",
   "execution_count": 17,
   "metadata": {},
   "outputs": [
    {
     "data": {
      "image/png": "[encoded data removed]",
      "text/plain": [
       "<matplotlib.figure.Figure at 0x7f097013acc0>"
      ]
     },
     "metadata": {},
     "output_type": "display_data"
    }
   ],
   "source": [
    "learn.sched.plot_lr()"
   ]
  },
  {
   "cell_type": "code",
   "execution_count": 18,
   "metadata": {},
   "outputs": [
    {
     "name": "stdout",
     "output_type": "stream",
     "text": [
      "CPU times: user 53.3 s, sys: 760 ms, total: 54.1 s\n",
      "Wall time: 51.8 s\n"
     ]
    },
    {
     "data": {
      "text/plain": [
       "[0.072613322578721731, 0.97336065573770492]"
      ]
     },
     "execution_count": 18,
     "metadata": {},
     "output_type": "execute_result"
    }
   ],
   "source": [
    "%%time\n",
    "learn.model.evaluate_generator(data[1], steps=math.ceil(data[1].samples/data[1].batch_size*4) )"
   ]
  },
  {
   "cell_type": "code",
   "execution_count": 19,
   "metadata": {
    "collapsed": true
   },
   "outputs": [],
   "source": [
    "learn.save('keras_resnet50_2.hdf5')"
   ]
  }
 ],
 "metadata": {
  "kernelspec": {
   "display_name": "Python 3",
   "language": "python",
   "name": "python3"
  },
  "language_info": {
   "codemirror_mode": {
    "name": "ipython",
    "version": 3
   },
   "file_extension": ".py",
   "mimetype": "text/x-python",
   "name": "python",
   "nbconvert_exporter": "python",
   "pygments_lexer": "ipython3",
   "version": "3.6.3"
  }
 },
 "nbformat": 4,
 "nbformat_minor": 2
}
